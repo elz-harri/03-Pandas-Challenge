{
 "cells": [
  {
   "cell_type": "markdown",
   "metadata": {},
   "source": [
    "### Note\n",
    "* Instructions have been included for each segment. You do not have to follow them exactly, but they are included to help you think through the steps."
   ]
  },
  {
   "cell_type": "code",
   "execution_count": 1,
   "metadata": {},
   "outputs": [],
   "source": [
    "# Dependencies and Setup\n",
    "import pandas as pd\n",
    "import numpy as np\n",
    "\n",
    "# File to Load (Remember to Change These)\n",
    "purch_datafile = \"Resources/purchase_data.csv\"\n",
    "\n",
    "# Read Purchasing File and store into Pandas data frame\n",
    "df_purch_data = pd.read_csv(purch_datafile)"
   ]
  },
  {
   "cell_type": "code",
   "execution_count": 2,
   "metadata": {},
   "outputs": [
    {
     "data": {
      "text/html": [
       "<div>\n",
       "<style scoped>\n",
       "    .dataframe tbody tr th:only-of-type {\n",
       "        vertical-align: middle;\n",
       "    }\n",
       "\n",
       "    .dataframe tbody tr th {\n",
       "        vertical-align: top;\n",
       "    }\n",
       "\n",
       "    .dataframe thead th {\n",
       "        text-align: right;\n",
       "    }\n",
       "</style>\n",
       "<table border=\"1\" class=\"dataframe\">\n",
       "  <thead>\n",
       "    <tr style=\"text-align: right;\">\n",
       "      <th></th>\n",
       "      <th>Purchase ID</th>\n",
       "      <th>SN</th>\n",
       "      <th>Age</th>\n",
       "      <th>Gender</th>\n",
       "      <th>Item ID</th>\n",
       "      <th>Item Name</th>\n",
       "      <th>Price</th>\n",
       "    </tr>\n",
       "  </thead>\n",
       "  <tbody>\n",
       "    <tr>\n",
       "      <th>0</th>\n",
       "      <td>0</td>\n",
       "      <td>Lisim78</td>\n",
       "      <td>20</td>\n",
       "      <td>Male</td>\n",
       "      <td>108</td>\n",
       "      <td>Extraction, Quickblade Of Trembling Hands</td>\n",
       "      <td>3.53</td>\n",
       "    </tr>\n",
       "    <tr>\n",
       "      <th>1</th>\n",
       "      <td>1</td>\n",
       "      <td>Lisovynya38</td>\n",
       "      <td>40</td>\n",
       "      <td>Male</td>\n",
       "      <td>143</td>\n",
       "      <td>Frenzied Scimitar</td>\n",
       "      <td>1.56</td>\n",
       "    </tr>\n",
       "    <tr>\n",
       "      <th>2</th>\n",
       "      <td>2</td>\n",
       "      <td>Ithergue48</td>\n",
       "      <td>24</td>\n",
       "      <td>Male</td>\n",
       "      <td>92</td>\n",
       "      <td>Final Critic</td>\n",
       "      <td>4.88</td>\n",
       "    </tr>\n",
       "    <tr>\n",
       "      <th>3</th>\n",
       "      <td>3</td>\n",
       "      <td>Chamassasya86</td>\n",
       "      <td>24</td>\n",
       "      <td>Male</td>\n",
       "      <td>100</td>\n",
       "      <td>Blindscythe</td>\n",
       "      <td>3.27</td>\n",
       "    </tr>\n",
       "    <tr>\n",
       "      <th>4</th>\n",
       "      <td>4</td>\n",
       "      <td>Iskosia90</td>\n",
       "      <td>23</td>\n",
       "      <td>Male</td>\n",
       "      <td>131</td>\n",
       "      <td>Fury</td>\n",
       "      <td>1.44</td>\n",
       "    </tr>\n",
       "  </tbody>\n",
       "</table>\n",
       "</div>"
      ],
      "text/plain": [
       "   Purchase ID             SN  Age Gender  Item ID  \\\n",
       "0            0        Lisim78   20   Male      108   \n",
       "1            1    Lisovynya38   40   Male      143   \n",
       "2            2     Ithergue48   24   Male       92   \n",
       "3            3  Chamassasya86   24   Male      100   \n",
       "4            4      Iskosia90   23   Male      131   \n",
       "\n",
       "                                   Item Name  Price  \n",
       "0  Extraction, Quickblade Of Trembling Hands   3.53  \n",
       "1                          Frenzied Scimitar   1.56  \n",
       "2                               Final Critic   4.88  \n",
       "3                                Blindscythe   3.27  \n",
       "4                                       Fury   1.44  "
      ]
     },
     "execution_count": 2,
     "metadata": {},
     "output_type": "execute_result"
    }
   ],
   "source": [
    "# Display the first 15 columns of our data frame\n",
    "df_purch_data.head()"
   ]
  },
  {
   "cell_type": "code",
   "execution_count": 3,
   "metadata": {},
   "outputs": [
    {
     "name": "stdout",
     "output_type": "stream",
     "text": [
      "<class 'pandas.core.frame.DataFrame'>\n",
      "RangeIndex: 780 entries, 0 to 779\n",
      "Data columns (total 7 columns):\n",
      " #   Column       Non-Null Count  Dtype  \n",
      "---  ------       --------------  -----  \n",
      " 0   Purchase ID  780 non-null    int64  \n",
      " 1   SN           780 non-null    object \n",
      " 2   Age          780 non-null    int64  \n",
      " 3   Gender       780 non-null    object \n",
      " 4   Item ID      780 non-null    int64  \n",
      " 5   Item Name    780 non-null    object \n",
      " 6   Price        780 non-null    float64\n",
      "dtypes: float64(1), int64(3), object(3)\n",
      "memory usage: 42.8+ KB\n"
     ]
    }
   ],
   "source": [
    "# Display data frame information\n",
    "df_purch_data.info()"
   ]
  },
  {
   "cell_type": "code",
   "execution_count": 4,
   "metadata": {},
   "outputs": [
    {
     "data": {
      "text/html": [
       "<div>\n",
       "<style scoped>\n",
       "    .dataframe tbody tr th:only-of-type {\n",
       "        vertical-align: middle;\n",
       "    }\n",
       "\n",
       "    .dataframe tbody tr th {\n",
       "        vertical-align: top;\n",
       "    }\n",
       "\n",
       "    .dataframe thead th {\n",
       "        text-align: right;\n",
       "    }\n",
       "</style>\n",
       "<table border=\"1\" class=\"dataframe\">\n",
       "  <thead>\n",
       "    <tr style=\"text-align: right;\">\n",
       "      <th></th>\n",
       "      <th>Purchase ID</th>\n",
       "      <th>SN</th>\n",
       "      <th>Age</th>\n",
       "      <th>Gender</th>\n",
       "      <th>Item ID</th>\n",
       "      <th>Item Name</th>\n",
       "      <th>Price</th>\n",
       "    </tr>\n",
       "  </thead>\n",
       "  <tbody>\n",
       "    <tr>\n",
       "      <th>775</th>\n",
       "      <td>775</td>\n",
       "      <td>Aethedru70</td>\n",
       "      <td>21</td>\n",
       "      <td>Female</td>\n",
       "      <td>60</td>\n",
       "      <td>Wolf</td>\n",
       "      <td>3.54</td>\n",
       "    </tr>\n",
       "    <tr>\n",
       "      <th>776</th>\n",
       "      <td>776</td>\n",
       "      <td>Iral74</td>\n",
       "      <td>21</td>\n",
       "      <td>Male</td>\n",
       "      <td>164</td>\n",
       "      <td>Exiled Doomblade</td>\n",
       "      <td>1.63</td>\n",
       "    </tr>\n",
       "    <tr>\n",
       "      <th>777</th>\n",
       "      <td>777</td>\n",
       "      <td>Yathecal72</td>\n",
       "      <td>20</td>\n",
       "      <td>Male</td>\n",
       "      <td>67</td>\n",
       "      <td>Celeste, Incarnation of the Corrupted</td>\n",
       "      <td>3.46</td>\n",
       "    </tr>\n",
       "    <tr>\n",
       "      <th>778</th>\n",
       "      <td>778</td>\n",
       "      <td>Sisur91</td>\n",
       "      <td>7</td>\n",
       "      <td>Male</td>\n",
       "      <td>92</td>\n",
       "      <td>Final Critic</td>\n",
       "      <td>4.19</td>\n",
       "    </tr>\n",
       "    <tr>\n",
       "      <th>779</th>\n",
       "      <td>779</td>\n",
       "      <td>Ennrian78</td>\n",
       "      <td>24</td>\n",
       "      <td>Male</td>\n",
       "      <td>50</td>\n",
       "      <td>Dawn</td>\n",
       "      <td>4.60</td>\n",
       "    </tr>\n",
       "  </tbody>\n",
       "</table>\n",
       "</div>"
      ],
      "text/plain": [
       "     Purchase ID          SN  Age  Gender  Item ID  \\\n",
       "775          775  Aethedru70   21  Female       60   \n",
       "776          776      Iral74   21    Male      164   \n",
       "777          777  Yathecal72   20    Male       67   \n",
       "778          778     Sisur91    7    Male       92   \n",
       "779          779   Ennrian78   24    Male       50   \n",
       "\n",
       "                                 Item Name  Price  \n",
       "775                                   Wolf   3.54  \n",
       "776                       Exiled Doomblade   1.63  \n",
       "777  Celeste, Incarnation of the Corrupted   3.46  \n",
       "778                           Final Critic   4.19  \n",
       "779                                   Dawn   4.60  "
      ]
     },
     "execution_count": 4,
     "metadata": {},
     "output_type": "execute_result"
    }
   ],
   "source": [
    "# Display the last 15 columns of our data frame\n",
    "df_purch_data.tail()"
   ]
  },
  {
   "cell_type": "markdown",
   "metadata": {},
   "source": [
    "## Player Count"
   ]
  },
  {
   "cell_type": "markdown",
   "metadata": {},
   "source": [
    "* Display the total number of players\n"
   ]
  },
  {
   "cell_type": "code",
   "execution_count": 5,
   "metadata": {},
   "outputs": [
    {
     "data": {
      "text/html": [
       "<div>\n",
       "<style scoped>\n",
       "    .dataframe tbody tr th:only-of-type {\n",
       "        vertical-align: middle;\n",
       "    }\n",
       "\n",
       "    .dataframe tbody tr th {\n",
       "        vertical-align: top;\n",
       "    }\n",
       "\n",
       "    .dataframe thead th {\n",
       "        text-align: right;\n",
       "    }\n",
       "</style>\n",
       "<table border=\"1\" class=\"dataframe\">\n",
       "  <thead>\n",
       "    <tr style=\"text-align: right;\">\n",
       "      <th></th>\n",
       "      <th>Total Players</th>\n",
       "    </tr>\n",
       "  </thead>\n",
       "  <tbody>\n",
       "    <tr>\n",
       "      <th>0</th>\n",
       "      <td>576</td>\n",
       "    </tr>\n",
       "  </tbody>\n",
       "</table>\n",
       "</div>"
      ],
      "text/plain": [
       "   Total Players\n",
       "0            576"
      ]
     },
     "execution_count": 5,
     "metadata": {},
     "output_type": "execute_result"
    }
   ],
   "source": [
    "# PLAYER COUNT: \n",
    "# Display the total number of players\n",
    "\n",
    "num_players = len(df_purch_data['SN'].value_counts()) \n",
    "\n",
    "total_players = pd.DataFrame({'Total Players' :[num_players]})\n",
    "\n",
    "total_players"
   ]
  },
  {
   "cell_type": "markdown",
   "metadata": {},
   "source": [
    "## Purchasing Analysis (Total)"
   ]
  },
  {
   "cell_type": "markdown",
   "metadata": {},
   "source": [
    "* Run basic calculations to obtain number of unique items, average price, etc.\n",
    "\n",
    "\n",
    "* Create a summary data frame to hold the results\n",
    "\n",
    "\n",
    "* Optional: give the displayed data cleaner formatting\n",
    "\n",
    "\n",
    "* Display the summary data frame\n"
   ]
  },
  {
   "cell_type": "code",
   "execution_count": 6,
   "metadata": {
    "scrolled": true
   },
   "outputs": [
    {
     "data": {
      "text/plain": [
       "179"
      ]
     },
     "execution_count": 6,
     "metadata": {},
     "output_type": "execute_result"
    }
   ],
   "source": [
    "# PURCHASING ANALYSIS:\n",
    "\n",
    "# Determine the number of unique items through 'Item Name' and 'Item ID columns' \n",
    "unique = len(df_purch_data['Item Name'].value_counts())\n",
    "unique "
   ]
  },
  {
   "cell_type": "code",
   "execution_count": 7,
   "metadata": {},
   "outputs": [
    {
     "data": {
      "text/plain": [
       "3.050987179487176"
      ]
     },
     "execution_count": 7,
     "metadata": {},
     "output_type": "execute_result"
    }
   ],
   "source": [
    "# Determine the average purchase price\n",
    "average_price = (df_purch_data['Price']).mean()\n",
    "average_price"
   ]
  },
  {
   "cell_type": "code",
   "execution_count": 8,
   "metadata": {},
   "outputs": [
    {
     "data": {
      "text/plain": [
       "2379.77"
      ]
     },
     "execution_count": 8,
     "metadata": {},
     "output_type": "execute_result"
    }
   ],
   "source": [
    "# Determine total number of purchases\n",
    "total_purchases = (df_purch_data['Price']).sum()\n",
    "total_purchases"
   ]
  },
  {
   "cell_type": "code",
   "execution_count": 9,
   "metadata": {
    "scrolled": true
   },
   "outputs": [
    {
     "data": {
      "text/html": [
       "<div>\n",
       "<style scoped>\n",
       "    .dataframe tbody tr th:only-of-type {\n",
       "        vertical-align: middle;\n",
       "    }\n",
       "\n",
       "    .dataframe tbody tr th {\n",
       "        vertical-align: top;\n",
       "    }\n",
       "\n",
       "    .dataframe thead th {\n",
       "        text-align: right;\n",
       "    }\n",
       "</style>\n",
       "<table border=\"1\" class=\"dataframe\">\n",
       "  <thead>\n",
       "    <tr style=\"text-align: right;\">\n",
       "      <th></th>\n",
       "      <th>Unique Items</th>\n",
       "      <th>Average Price</th>\n",
       "      <th>Total Purchases</th>\n",
       "    </tr>\n",
       "  </thead>\n",
       "  <tbody>\n",
       "    <tr>\n",
       "      <th>0</th>\n",
       "      <td>179</td>\n",
       "      <td>3.050987</td>\n",
       "      <td>2379.77</td>\n",
       "    </tr>\n",
       "  </tbody>\n",
       "</table>\n",
       "</div>"
      ],
      "text/plain": [
       "   Unique Items  Average Price  Total Purchases\n",
       "0           179       3.050987          2379.77"
      ]
     },
     "execution_count": 9,
     "metadata": {},
     "output_type": "execute_result"
    }
   ],
   "source": [
    "# Create a summary data frame to hold the results\n",
    "purchase_summary = pd.DataFrame({'Unique Items':[unique],\n",
    "                             'Average Price':[average_price],\n",
    "                             'Total Purchases':[total_purchases]})\n",
    "purchase_summary"
   ]
  },
  {
   "cell_type": "code",
   "execution_count": 10,
   "metadata": {},
   "outputs": [
    {
     "data": {
      "text/html": [
       "<style  type=\"text/css\" >\n",
       "</style><table id=\"T_41b0f93a_1fa1_11eb_a97c_e470b8fd7298\" ><thead>    <tr>        <th class=\"blank level0\" ></th>        <th class=\"col_heading level0 col0\" >Unique Items</th>        <th class=\"col_heading level0 col1\" >Average Price</th>        <th class=\"col_heading level0 col2\" >Total Purchases</th>    </tr></thead><tbody>\n",
       "                <tr>\n",
       "                        <th id=\"T_41b0f93a_1fa1_11eb_a97c_e470b8fd7298level0_row0\" class=\"row_heading level0 row0\" >0</th>\n",
       "                        <td id=\"T_41b0f93a_1fa1_11eb_a97c_e470b8fd7298row0_col0\" class=\"data row0 col0\" >179</td>\n",
       "                        <td id=\"T_41b0f93a_1fa1_11eb_a97c_e470b8fd7298row0_col1\" class=\"data row0 col1\" >$3.05</td>\n",
       "                        <td id=\"T_41b0f93a_1fa1_11eb_a97c_e470b8fd7298row0_col2\" class=\"data row0 col2\" >$2,379.77</td>\n",
       "            </tr>\n",
       "    </tbody></table>"
      ],
      "text/plain": [
       "<pandas.io.formats.style.Styler at 0x1aba58ae400>"
      ]
     },
     "execution_count": 10,
     "metadata": {},
     "output_type": "execute_result"
    }
   ],
   "source": [
    "purchase_summary.style.format({'Average Price':\"${:,.2f}\",\n",
    "                                'Total Purchases': '${:,.2f}'})"
   ]
  },
  {
   "cell_type": "markdown",
   "metadata": {},
   "source": [
    "## Gender Demographics"
   ]
  },
  {
   "cell_type": "markdown",
   "metadata": {},
   "source": [
    "* Percentage and Count of Male Players\n",
    "\n",
    "\n",
    "* Percentage and Count of Female Players\n",
    "\n",
    "\n",
    "* Percentage and Count of Other / Non-Disclosed\n",
    "\n",
    "\n"
   ]
  },
  {
   "cell_type": "code",
   "execution_count": 11,
   "metadata": {},
   "outputs": [],
   "source": [
    "# GENDER DEMOGRAPHICS\n",
    "\n",
    "# Group the data from the Gender column \n",
    "gender_demographics = df_purch_data.groupby('Gender')\n",
    "\n",
    "# Count the total of unique screen names by gender\n",
    "gender_total = gender_demographics.nunique()['SN']\n",
    "\n",
    "# Find the percentage of male & female players\n",
    "player_percentage = gender_total / num_players *100"
   ]
  },
  {
   "cell_type": "code",
   "execution_count": 12,
   "metadata": {},
   "outputs": [
    {
     "data": {
      "text/html": [
       "<style  type=\"text/css\" >\n",
       "</style><table id=\"T_41c27b78_1fa1_11eb_ada4_e470b8fd7298\" ><thead>    <tr>        <th class=\"blank level0\" ></th>        <th class=\"col_heading level0 col0\" >Total Count</th>        <th class=\"col_heading level0 col1\" >Percentage of Players</th>    </tr>    <tr>        <th class=\"index_name level0\" >Gender</th>        <th class=\"blank\" ></th>        <th class=\"blank\" ></th>    </tr></thead><tbody>\n",
       "                <tr>\n",
       "                        <th id=\"T_41c27b78_1fa1_11eb_ada4_e470b8fd7298level0_row0\" class=\"row_heading level0 row0\" >Male</th>\n",
       "                        <td id=\"T_41c27b78_1fa1_11eb_ada4_e470b8fd7298row0_col0\" class=\"data row0 col0\" >484</td>\n",
       "                        <td id=\"T_41c27b78_1fa1_11eb_ada4_e470b8fd7298row0_col1\" class=\"data row0 col1\" >84.03%</td>\n",
       "            </tr>\n",
       "            <tr>\n",
       "                        <th id=\"T_41c27b78_1fa1_11eb_ada4_e470b8fd7298level0_row1\" class=\"row_heading level0 row1\" >Female</th>\n",
       "                        <td id=\"T_41c27b78_1fa1_11eb_ada4_e470b8fd7298row1_col0\" class=\"data row1 col0\" >81</td>\n",
       "                        <td id=\"T_41c27b78_1fa1_11eb_ada4_e470b8fd7298row1_col1\" class=\"data row1 col1\" >14.06%</td>\n",
       "            </tr>\n",
       "            <tr>\n",
       "                        <th id=\"T_41c27b78_1fa1_11eb_ada4_e470b8fd7298level0_row2\" class=\"row_heading level0 row2\" >Other / Non-Disclosed</th>\n",
       "                        <td id=\"T_41c27b78_1fa1_11eb_ada4_e470b8fd7298row2_col0\" class=\"data row2 col0\" >11</td>\n",
       "                        <td id=\"T_41c27b78_1fa1_11eb_ada4_e470b8fd7298row2_col1\" class=\"data row2 col1\" >1.91%</td>\n",
       "            </tr>\n",
       "    </tbody></table>"
      ],
      "text/plain": [
       "<pandas.io.formats.style.Styler at 0x1aba697ab50>"
      ]
     },
     "execution_count": 12,
     "metadata": {},
     "output_type": "execute_result"
    }
   ],
   "source": [
    "# Create a data frame to hold this information\n",
    "gender_summary = pd.DataFrame({'Total Count': gender_total, 'Percentage of Players': player_percentage})\n",
    "\n",
    "gender_summary.sort_values(['Total Count'], ascending = False).style.format({'Percentage of Players':'{:.2f}%'})"
   ]
  },
  {
   "cell_type": "code",
   "execution_count": 13,
   "metadata": {},
   "outputs": [
    {
     "data": {
      "text/html": [
       "<style  type=\"text/css\" >\n",
       "</style><table id=\"T_41c6c941_1fa1_11eb_8ad1_e470b8fd7298\" ><thead>    <tr>        <th class=\"blank level0\" ></th>        <th class=\"col_heading level0 col0\" >Total Count</th>        <th class=\"col_heading level0 col1\" >Percentage of Players</th>    </tr>    <tr>        <th class=\"index_name level0\" >Gender</th>        <th class=\"blank\" ></th>        <th class=\"blank\" ></th>    </tr></thead><tbody>\n",
       "                <tr>\n",
       "                        <th id=\"T_41c6c941_1fa1_11eb_8ad1_e470b8fd7298level0_row0\" class=\"row_heading level0 row0\" >Male</th>\n",
       "                        <td id=\"T_41c6c941_1fa1_11eb_8ad1_e470b8fd7298row0_col0\" class=\"data row0 col0\" >484</td>\n",
       "                        <td id=\"T_41c6c941_1fa1_11eb_8ad1_e470b8fd7298row0_col1\" class=\"data row0 col1\" >84.03%</td>\n",
       "            </tr>\n",
       "            <tr>\n",
       "                        <th id=\"T_41c6c941_1fa1_11eb_8ad1_e470b8fd7298level0_row1\" class=\"row_heading level0 row1\" >Female</th>\n",
       "                        <td id=\"T_41c6c941_1fa1_11eb_8ad1_e470b8fd7298row1_col0\" class=\"data row1 col0\" >81</td>\n",
       "                        <td id=\"T_41c6c941_1fa1_11eb_8ad1_e470b8fd7298row1_col1\" class=\"data row1 col1\" >14.06%</td>\n",
       "            </tr>\n",
       "            <tr>\n",
       "                        <th id=\"T_41c6c941_1fa1_11eb_8ad1_e470b8fd7298level0_row2\" class=\"row_heading level0 row2\" >Other / Non-Disclosed</th>\n",
       "                        <td id=\"T_41c6c941_1fa1_11eb_8ad1_e470b8fd7298row2_col0\" class=\"data row2 col0\" >11</td>\n",
       "                        <td id=\"T_41c6c941_1fa1_11eb_8ad1_e470b8fd7298row2_col1\" class=\"data row2 col1\" >1.91%</td>\n",
       "            </tr>\n",
       "    </tbody></table>"
      ],
      "text/plain": [
       "<pandas.io.formats.style.Styler at 0x1aba6987250>"
      ]
     },
     "execution_count": 13,
     "metadata": {},
     "output_type": "execute_result"
    }
   ],
   "source": [
    "# Create a data frame to hold this information\n",
    "gender_demo_summary = pd.DataFrame({'Total Count': gender_total,'Percentage of Players': player_percentage})\n",
    "\n",
    "gender_demo_summary.sort_values(['Total Count'], ascending = False).style.format({'Percentage of Players':'{:.2f}%'})"
   ]
  },
  {
   "cell_type": "markdown",
   "metadata": {},
   "source": [
    "\n",
    "## Purchasing Analysis (Gender)"
   ]
  },
  {
   "cell_type": "markdown",
   "metadata": {},
   "source": [
    "* Run basic calculations to obtain purchase count, avg. purchase price, avg. purchase total per person etc. by gender\n",
    "\n",
    "\n",
    "\n",
    "\n",
    "* Create a summary data frame to hold the results\n",
    "\n",
    "\n",
    "* Optional: give the displayed data cleaner formatting\n",
    "\n",
    "\n",
    "* Display the summary data frame"
   ]
  },
  {
   "cell_type": "code",
   "execution_count": 14,
   "metadata": {},
   "outputs": [],
   "source": [
    "# Count the purchase total of each gender\n",
    "total_purchase = gender_demographics['Purchase ID'].count()\n",
    "\n",
    "# Determine the mean purchase price by gender\n",
    "mean_purchase_price = gender_demographics['Price'].mean()\n",
    "\n",
    "# Determine the sum of purchases by gender\n",
    "sum_average_purchase = gender_demographics['Price'].sum()\n",
    "\n",
    "# Average purchase total by gender divivded by purchase total\n",
    "mean_per_person = sum_average_purchase/gender_total\n"
   ]
  },
  {
   "cell_type": "code",
   "execution_count": 15,
   "metadata": {},
   "outputs": [
    {
     "data": {
      "text/html": [
       "<style  type=\"text/css\" >\n",
       "</style><table id=\"T_41d038c1_1fa1_11eb_8af6_e470b8fd7298\" ><thead>    <tr>        <th class=\"blank level0\" ></th>        <th class=\"col_heading level0 col0\" >Purchase Count</th>        <th class=\"col_heading level0 col1\" >Average Purchase Price</th>        <th class=\"col_heading level0 col2\" >Total Purchase Value</th>        <th class=\"col_heading level0 col3\" >Average Total per Person</th>    </tr>    <tr>        <th class=\"index_name level0\" >Gender</th>        <th class=\"blank\" ></th>        <th class=\"blank\" ></th>        <th class=\"blank\" ></th>        <th class=\"blank\" ></th>    </tr></thead><tbody>\n",
       "                <tr>\n",
       "                        <th id=\"T_41d038c1_1fa1_11eb_8af6_e470b8fd7298level0_row0\" class=\"row_heading level0 row0\" >Female</th>\n",
       "                        <td id=\"T_41d038c1_1fa1_11eb_8af6_e470b8fd7298row0_col0\" class=\"data row0 col0\" >113</td>\n",
       "                        <td id=\"T_41d038c1_1fa1_11eb_8af6_e470b8fd7298row0_col1\" class=\"data row0 col1\" >$3.20</td>\n",
       "                        <td id=\"T_41d038c1_1fa1_11eb_8af6_e470b8fd7298row0_col2\" class=\"data row0 col2\" >$361.94</td>\n",
       "                        <td id=\"T_41d038c1_1fa1_11eb_8af6_e470b8fd7298row0_col3\" class=\"data row0 col3\" >$4.47</td>\n",
       "            </tr>\n",
       "            <tr>\n",
       "                        <th id=\"T_41d038c1_1fa1_11eb_8af6_e470b8fd7298level0_row1\" class=\"row_heading level0 row1\" >Male</th>\n",
       "                        <td id=\"T_41d038c1_1fa1_11eb_8af6_e470b8fd7298row1_col0\" class=\"data row1 col0\" >652</td>\n",
       "                        <td id=\"T_41d038c1_1fa1_11eb_8af6_e470b8fd7298row1_col1\" class=\"data row1 col1\" >$3.02</td>\n",
       "                        <td id=\"T_41d038c1_1fa1_11eb_8af6_e470b8fd7298row1_col2\" class=\"data row1 col2\" >$1,967.64</td>\n",
       "                        <td id=\"T_41d038c1_1fa1_11eb_8af6_e470b8fd7298row1_col3\" class=\"data row1 col3\" >$4.07</td>\n",
       "            </tr>\n",
       "            <tr>\n",
       "                        <th id=\"T_41d038c1_1fa1_11eb_8af6_e470b8fd7298level0_row2\" class=\"row_heading level0 row2\" >Other / Non-Disclosed</th>\n",
       "                        <td id=\"T_41d038c1_1fa1_11eb_8af6_e470b8fd7298row2_col0\" class=\"data row2 col0\" >15</td>\n",
       "                        <td id=\"T_41d038c1_1fa1_11eb_8af6_e470b8fd7298row2_col1\" class=\"data row2 col1\" >$3.35</td>\n",
       "                        <td id=\"T_41d038c1_1fa1_11eb_8af6_e470b8fd7298row2_col2\" class=\"data row2 col2\" >$50.19</td>\n",
       "                        <td id=\"T_41d038c1_1fa1_11eb_8af6_e470b8fd7298row2_col3\" class=\"data row2 col3\" >$4.56</td>\n",
       "            </tr>\n",
       "    </tbody></table>"
      ],
      "text/plain": [
       "<pandas.io.formats.style.Styler at 0x1aba69870a0>"
      ]
     },
     "execution_count": 15,
     "metadata": {},
     "output_type": "execute_result"
    }
   ],
   "source": [
    "# Create a data frame to hold this information\n",
    "gender_demo_summary = pd.DataFrame({'Purchase Count': total_purchase,\n",
    "                                    'Average Purchase Price': mean_purchase_price,\n",
    "                                    'Total Purchase Value':sum_average_purchase,\n",
    "                                    'Average Total per Person': mean_per_person})\n",
    "\n",
    "# Format with currency style\n",
    "gender_demo_summary.style.format({'Total Purchase Value':'${:,.2f}',\n",
    "                                  'Average Purchase Price':'${:,.2f}',\n",
    "                                  'Average Total per Person':'${:,.2f}'})"
   ]
  },
  {
   "cell_type": "markdown",
   "metadata": {},
   "source": [
    "## Age Demographics"
   ]
  },
  {
   "cell_type": "markdown",
   "metadata": {},
   "source": [
    "* Establish bins for ages\n",
    "\n",
    "\n",
    "* Categorize the existing players using the age bins. Hint: use pd.cut()\n",
    "\n",
    "\n",
    "* Calculate the numbers and percentages by age group\n",
    "\n",
    "\n",
    "* Create a summary data frame to hold the results\n",
    "\n",
    "\n",
    "* Optional: round the percentage column to two decimal points\n",
    "\n",
    "\n",
    "* Display Age Demographics Table\n"
   ]
  },
  {
   "cell_type": "code",
   "execution_count": 16,
   "metadata": {},
   "outputs": [],
   "source": [
    "# Create bins for each age group & categorize the players within the bins\n",
    "age_bins = [0, 9.99, 14.99, 19.99, 24.99, 29.99, 34.99, 39.99, 99999]\n",
    "group_labels = ['<10', '10-14', '15-19', '20-24', '25-29', '30-34', '35-39', '40+']\n",
    "\n",
    "# Sort ages into bins\n",
    "df_purch_data['Age Group'] = pd.cut(df_purch_data['Age'],age_bins, labels = group_labels)\n",
    "df_purch_data\n",
    "\n",
    "# Create a data frame with 'Age Group' data\n",
    "ages_grouped = df_purch_data.groupby('Age Group')\n",
    "\n",
    "# Count the players by age \n",
    "totalcount_by_age = ages_grouped['SN'].nunique()\n",
    "\n",
    "# Calculate percentages by age category \n",
    "totalpercentage_by_age = (totalcount_by_age/num_players) * 100"
   ]
  },
  {
   "cell_type": "code",
   "execution_count": 17,
   "metadata": {},
   "outputs": [
    {
     "data": {
      "text/html": [
       "<style  type=\"text/css\" >\n",
       "</style><table id=\"T_41d9d0fa_1fa1_11eb_99ea_e470b8fd7298\" ><thead>    <tr>        <th class=\"blank level0\" ></th>        <th class=\"col_heading level0 col0\" >Total Count</th>        <th class=\"col_heading level0 col1\" >Percentage of Players</th>    </tr>    <tr>        <th class=\"index_name level0\" >Age Group</th>        <th class=\"blank\" ></th>        <th class=\"blank\" ></th>    </tr></thead><tbody>\n",
       "                <tr>\n",
       "                        <th id=\"T_41d9d0fa_1fa1_11eb_99ea_e470b8fd7298level0_row0\" class=\"row_heading level0 row0\" ><10</th>\n",
       "                        <td id=\"T_41d9d0fa_1fa1_11eb_99ea_e470b8fd7298row0_col0\" class=\"data row0 col0\" >17</td>\n",
       "                        <td id=\"T_41d9d0fa_1fa1_11eb_99ea_e470b8fd7298row0_col1\" class=\"data row0 col1\" >2.95%</td>\n",
       "            </tr>\n",
       "            <tr>\n",
       "                        <th id=\"T_41d9d0fa_1fa1_11eb_99ea_e470b8fd7298level0_row1\" class=\"row_heading level0 row1\" >10-14</th>\n",
       "                        <td id=\"T_41d9d0fa_1fa1_11eb_99ea_e470b8fd7298row1_col0\" class=\"data row1 col0\" >22</td>\n",
       "                        <td id=\"T_41d9d0fa_1fa1_11eb_99ea_e470b8fd7298row1_col1\" class=\"data row1 col1\" >3.82%</td>\n",
       "            </tr>\n",
       "            <tr>\n",
       "                        <th id=\"T_41d9d0fa_1fa1_11eb_99ea_e470b8fd7298level0_row2\" class=\"row_heading level0 row2\" >15-19</th>\n",
       "                        <td id=\"T_41d9d0fa_1fa1_11eb_99ea_e470b8fd7298row2_col0\" class=\"data row2 col0\" >107</td>\n",
       "                        <td id=\"T_41d9d0fa_1fa1_11eb_99ea_e470b8fd7298row2_col1\" class=\"data row2 col1\" >18.58%</td>\n",
       "            </tr>\n",
       "            <tr>\n",
       "                        <th id=\"T_41d9d0fa_1fa1_11eb_99ea_e470b8fd7298level0_row3\" class=\"row_heading level0 row3\" >20-24</th>\n",
       "                        <td id=\"T_41d9d0fa_1fa1_11eb_99ea_e470b8fd7298row3_col0\" class=\"data row3 col0\" >258</td>\n",
       "                        <td id=\"T_41d9d0fa_1fa1_11eb_99ea_e470b8fd7298row3_col1\" class=\"data row3 col1\" >44.79%</td>\n",
       "            </tr>\n",
       "            <tr>\n",
       "                        <th id=\"T_41d9d0fa_1fa1_11eb_99ea_e470b8fd7298level0_row4\" class=\"row_heading level0 row4\" >25-29</th>\n",
       "                        <td id=\"T_41d9d0fa_1fa1_11eb_99ea_e470b8fd7298row4_col0\" class=\"data row4 col0\" >77</td>\n",
       "                        <td id=\"T_41d9d0fa_1fa1_11eb_99ea_e470b8fd7298row4_col1\" class=\"data row4 col1\" >13.37%</td>\n",
       "            </tr>\n",
       "            <tr>\n",
       "                        <th id=\"T_41d9d0fa_1fa1_11eb_99ea_e470b8fd7298level0_row5\" class=\"row_heading level0 row5\" >30-34</th>\n",
       "                        <td id=\"T_41d9d0fa_1fa1_11eb_99ea_e470b8fd7298row5_col0\" class=\"data row5 col0\" >52</td>\n",
       "                        <td id=\"T_41d9d0fa_1fa1_11eb_99ea_e470b8fd7298row5_col1\" class=\"data row5 col1\" >9.03%</td>\n",
       "            </tr>\n",
       "            <tr>\n",
       "                        <th id=\"T_41d9d0fa_1fa1_11eb_99ea_e470b8fd7298level0_row6\" class=\"row_heading level0 row6\" >35-39</th>\n",
       "                        <td id=\"T_41d9d0fa_1fa1_11eb_99ea_e470b8fd7298row6_col0\" class=\"data row6 col0\" >31</td>\n",
       "                        <td id=\"T_41d9d0fa_1fa1_11eb_99ea_e470b8fd7298row6_col1\" class=\"data row6 col1\" >5.38%</td>\n",
       "            </tr>\n",
       "            <tr>\n",
       "                        <th id=\"T_41d9d0fa_1fa1_11eb_99ea_e470b8fd7298level0_row7\" class=\"row_heading level0 row7\" >40+</th>\n",
       "                        <td id=\"T_41d9d0fa_1fa1_11eb_99ea_e470b8fd7298row7_col0\" class=\"data row7 col0\" >12</td>\n",
       "                        <td id=\"T_41d9d0fa_1fa1_11eb_99ea_e470b8fd7298row7_col1\" class=\"data row7 col1\" >2.08%</td>\n",
       "            </tr>\n",
       "    </tbody></table>"
      ],
      "text/plain": [
       "<pandas.io.formats.style.Styler at 0x1aba6a90a00>"
      ]
     },
     "execution_count": 17,
     "metadata": {},
     "output_type": "execute_result"
    }
   ],
   "source": [
    "# Create data frame with obtained values\n",
    "age_demo_summary = pd.DataFrame({'Total Count': totalcount_by_age, 'Percentage of Players': totalpercentage_by_age})\n",
    "\n",
    "# Apply formatting so percentage displays 2 decimal points & a percentage sign\n",
    "age_demo_summary.style.format({'Percentage of Players':'{:,.2f}%'})"
   ]
  },
  {
   "cell_type": "markdown",
   "metadata": {},
   "source": [
    "## Purchasing Analysis (Age)"
   ]
  },
  {
   "cell_type": "markdown",
   "metadata": {},
   "source": [
    "* Bin the purchase_data data frame by age\n",
    "\n",
    "\n",
    "* Run basic calculations to obtain purchase count, avg. purchase price, avg. purchase total per person etc. in the table below\n",
    "\n",
    "\n",
    "* Create a summary data frame to hold the results\n",
    "\n",
    "\n",
    "* Optional: give the displayed data cleaner formatting\n",
    "\n",
    "\n",
    "* Display the summary data frame"
   ]
  },
  {
   "cell_type": "code",
   "execution_count": 18,
   "metadata": {},
   "outputs": [],
   "source": [
    "# Count the purchase total per age group\n",
    "purchases_by_age = ages_grouped[\"Purchase ID\"].count()\n",
    "\n",
    "# Determine the mean purchase price by age group\n",
    "mean_purchase_age = ages_grouped['Price'].mean()\n",
    "\n",
    "# Determine the sum of purchases by age group\n",
    "total_purchases_age = ages_grouped['Price'].sum()\n",
    "\n",
    "# Average purchase total by age group divivded by purchase total\n",
    "mean_per_age = total_purchases_age/totalcount_by_age"
   ]
  },
  {
   "cell_type": "code",
   "execution_count": 19,
   "metadata": {},
   "outputs": [
    {
     "data": {
      "text/html": [
       "<style  type=\"text/css\" >\n",
       "</style><table id=\"T_41e42a4e_1fa1_11eb_9e64_e470b8fd7298\" ><thead>    <tr>        <th class=\"blank level0\" ></th>        <th class=\"col_heading level0 col0\" >Purchase Count</th>        <th class=\"col_heading level0 col1\" >Average Purchase Price</th>        <th class=\"col_heading level0 col2\" >Total Purchase Value</th>        <th class=\"col_heading level0 col3\" >Average Total Purchase per Person</th>    </tr>    <tr>        <th class=\"index_name level0\" >Age Group</th>        <th class=\"blank\" ></th>        <th class=\"blank\" ></th>        <th class=\"blank\" ></th>        <th class=\"blank\" ></th>    </tr></thead><tbody>\n",
       "                <tr>\n",
       "                        <th id=\"T_41e42a4e_1fa1_11eb_9e64_e470b8fd7298level0_row0\" class=\"row_heading level0 row0\" ><10</th>\n",
       "                        <td id=\"T_41e42a4e_1fa1_11eb_9e64_e470b8fd7298row0_col0\" class=\"data row0 col0\" >23</td>\n",
       "                        <td id=\"T_41e42a4e_1fa1_11eb_9e64_e470b8fd7298row0_col1\" class=\"data row0 col1\" >$3.35</td>\n",
       "                        <td id=\"T_41e42a4e_1fa1_11eb_9e64_e470b8fd7298row0_col2\" class=\"data row0 col2\" >$77.13</td>\n",
       "                        <td id=\"T_41e42a4e_1fa1_11eb_9e64_e470b8fd7298row0_col3\" class=\"data row0 col3\" >$4.54</td>\n",
       "            </tr>\n",
       "            <tr>\n",
       "                        <th id=\"T_41e42a4e_1fa1_11eb_9e64_e470b8fd7298level0_row1\" class=\"row_heading level0 row1\" >10-14</th>\n",
       "                        <td id=\"T_41e42a4e_1fa1_11eb_9e64_e470b8fd7298row1_col0\" class=\"data row1 col0\" >28</td>\n",
       "                        <td id=\"T_41e42a4e_1fa1_11eb_9e64_e470b8fd7298row1_col1\" class=\"data row1 col1\" >$2.96</td>\n",
       "                        <td id=\"T_41e42a4e_1fa1_11eb_9e64_e470b8fd7298row1_col2\" class=\"data row1 col2\" >$82.78</td>\n",
       "                        <td id=\"T_41e42a4e_1fa1_11eb_9e64_e470b8fd7298row1_col3\" class=\"data row1 col3\" >$3.76</td>\n",
       "            </tr>\n",
       "            <tr>\n",
       "                        <th id=\"T_41e42a4e_1fa1_11eb_9e64_e470b8fd7298level0_row2\" class=\"row_heading level0 row2\" >15-19</th>\n",
       "                        <td id=\"T_41e42a4e_1fa1_11eb_9e64_e470b8fd7298row2_col0\" class=\"data row2 col0\" >136</td>\n",
       "                        <td id=\"T_41e42a4e_1fa1_11eb_9e64_e470b8fd7298row2_col1\" class=\"data row2 col1\" >$3.04</td>\n",
       "                        <td id=\"T_41e42a4e_1fa1_11eb_9e64_e470b8fd7298row2_col2\" class=\"data row2 col2\" >$412.89</td>\n",
       "                        <td id=\"T_41e42a4e_1fa1_11eb_9e64_e470b8fd7298row2_col3\" class=\"data row2 col3\" >$3.86</td>\n",
       "            </tr>\n",
       "            <tr>\n",
       "                        <th id=\"T_41e42a4e_1fa1_11eb_9e64_e470b8fd7298level0_row3\" class=\"row_heading level0 row3\" >20-24</th>\n",
       "                        <td id=\"T_41e42a4e_1fa1_11eb_9e64_e470b8fd7298row3_col0\" class=\"data row3 col0\" >365</td>\n",
       "                        <td id=\"T_41e42a4e_1fa1_11eb_9e64_e470b8fd7298row3_col1\" class=\"data row3 col1\" >$3.05</td>\n",
       "                        <td id=\"T_41e42a4e_1fa1_11eb_9e64_e470b8fd7298row3_col2\" class=\"data row3 col2\" >$1,114.06</td>\n",
       "                        <td id=\"T_41e42a4e_1fa1_11eb_9e64_e470b8fd7298row3_col3\" class=\"data row3 col3\" >$4.32</td>\n",
       "            </tr>\n",
       "            <tr>\n",
       "                        <th id=\"T_41e42a4e_1fa1_11eb_9e64_e470b8fd7298level0_row4\" class=\"row_heading level0 row4\" >25-29</th>\n",
       "                        <td id=\"T_41e42a4e_1fa1_11eb_9e64_e470b8fd7298row4_col0\" class=\"data row4 col0\" >101</td>\n",
       "                        <td id=\"T_41e42a4e_1fa1_11eb_9e64_e470b8fd7298row4_col1\" class=\"data row4 col1\" >$2.90</td>\n",
       "                        <td id=\"T_41e42a4e_1fa1_11eb_9e64_e470b8fd7298row4_col2\" class=\"data row4 col2\" >$293.00</td>\n",
       "                        <td id=\"T_41e42a4e_1fa1_11eb_9e64_e470b8fd7298row4_col3\" class=\"data row4 col3\" >$3.81</td>\n",
       "            </tr>\n",
       "            <tr>\n",
       "                        <th id=\"T_41e42a4e_1fa1_11eb_9e64_e470b8fd7298level0_row5\" class=\"row_heading level0 row5\" >30-34</th>\n",
       "                        <td id=\"T_41e42a4e_1fa1_11eb_9e64_e470b8fd7298row5_col0\" class=\"data row5 col0\" >73</td>\n",
       "                        <td id=\"T_41e42a4e_1fa1_11eb_9e64_e470b8fd7298row5_col1\" class=\"data row5 col1\" >$2.93</td>\n",
       "                        <td id=\"T_41e42a4e_1fa1_11eb_9e64_e470b8fd7298row5_col2\" class=\"data row5 col2\" >$214.00</td>\n",
       "                        <td id=\"T_41e42a4e_1fa1_11eb_9e64_e470b8fd7298row5_col3\" class=\"data row5 col3\" >$4.12</td>\n",
       "            </tr>\n",
       "            <tr>\n",
       "                        <th id=\"T_41e42a4e_1fa1_11eb_9e64_e470b8fd7298level0_row6\" class=\"row_heading level0 row6\" >35-39</th>\n",
       "                        <td id=\"T_41e42a4e_1fa1_11eb_9e64_e470b8fd7298row6_col0\" class=\"data row6 col0\" >41</td>\n",
       "                        <td id=\"T_41e42a4e_1fa1_11eb_9e64_e470b8fd7298row6_col1\" class=\"data row6 col1\" >$3.60</td>\n",
       "                        <td id=\"T_41e42a4e_1fa1_11eb_9e64_e470b8fd7298row6_col2\" class=\"data row6 col2\" >$147.67</td>\n",
       "                        <td id=\"T_41e42a4e_1fa1_11eb_9e64_e470b8fd7298row6_col3\" class=\"data row6 col3\" >$4.76</td>\n",
       "            </tr>\n",
       "            <tr>\n",
       "                        <th id=\"T_41e42a4e_1fa1_11eb_9e64_e470b8fd7298level0_row7\" class=\"row_heading level0 row7\" >40+</th>\n",
       "                        <td id=\"T_41e42a4e_1fa1_11eb_9e64_e470b8fd7298row7_col0\" class=\"data row7 col0\" >13</td>\n",
       "                        <td id=\"T_41e42a4e_1fa1_11eb_9e64_e470b8fd7298row7_col1\" class=\"data row7 col1\" >$2.94</td>\n",
       "                        <td id=\"T_41e42a4e_1fa1_11eb_9e64_e470b8fd7298row7_col2\" class=\"data row7 col2\" >$38.24</td>\n",
       "                        <td id=\"T_41e42a4e_1fa1_11eb_9e64_e470b8fd7298row7_col3\" class=\"data row7 col3\" >$3.19</td>\n",
       "            </tr>\n",
       "    </tbody></table>"
      ],
      "text/plain": [
       "<pandas.io.formats.style.Styler at 0x1aba6a9beb0>"
      ]
     },
     "execution_count": 19,
     "metadata": {},
     "output_type": "execute_result"
    }
   ],
   "source": [
    "# Create a data frame to hold this information\n",
    "age_demo_summary = pd.DataFrame({'Purchase Count': purchases_by_age,\n",
    "                                    'Average Purchase Price': mean_purchase_age,\n",
    "                                    'Total Purchase Value':total_purchases_age,\n",
    "                                    'Average Total Purchase per Person': mean_per_age})\n",
    "\n",
    "# Apply formatting so dollar values displays 2 decimal points & a dollar sign\n",
    "age_demo_summary.style.format({'Total Purchase Value':'${:,.2f}',\n",
    "                                  'Total Purchases by Age':'{:,.2f}',\n",
    "                                  'Average Purchase Price':'${:,.2f}',\n",
    "                                  'Average Total Purchase per Person':'${:,.2f}'})"
   ]
  },
  {
   "cell_type": "markdown",
   "metadata": {},
   "source": [
    "## Top Spenders"
   ]
  },
  {
   "cell_type": "markdown",
   "metadata": {},
   "source": [
    "* Run basic calculations to obtain the results in the table below\n",
    "\n",
    "* Create a summary data frame to hold the results\n",
    "\n",
    "* Sort the total purchase value column in descending order\n",
    "\n",
    "* Optional: give the displayed data cleaner formatting\n",
    "\n",
    "* Display a preview of the summary data frame\n"
   ]
  },
  {
   "cell_type": "code",
   "execution_count": 20,
   "metadata": {},
   "outputs": [],
   "source": [
    "# Use original data frame and groupby 'SN'\n",
    "spender_data = df_purch_data.groupby('SN')\n",
    "\n",
    "# Count the purchase total of each spender\n",
    "purchases_by_spender = spender_data['Purchase ID'].count()\n",
    "\n",
    "# Determine the mean purchase price by spender\n",
    "mean_purchases_spender = spender_data['Price'].mean()\n",
    "\n",
    "# Determine the sum of purchases by spender\n",
    "total_purchases_spender = spender_data['Price'].sum()                     \n",
    "\n"
   ]
  },
  {
   "cell_type": "code",
   "execution_count": 21,
   "metadata": {},
   "outputs": [
    {
     "data": {
      "text/html": [
       "<style  type=\"text/css\" >\n",
       "</style><table id=\"T_41ed998f_1fa1_11eb_b147_e470b8fd7298\" ><thead>    <tr>        <th class=\"blank level0\" ></th>        <th class=\"col_heading level0 col0\" >Purchase Count</th>        <th class=\"col_heading level0 col1\" >Average Purchase Price</th>        <th class=\"col_heading level0 col2\" >Total Purchase Value</th>    </tr>    <tr>        <th class=\"index_name level0\" >SN</th>        <th class=\"blank\" ></th>        <th class=\"blank\" ></th>        <th class=\"blank\" ></th>    </tr></thead><tbody>\n",
       "                <tr>\n",
       "                        <th id=\"T_41ed998f_1fa1_11eb_b147_e470b8fd7298level0_row0\" class=\"row_heading level0 row0\" >Lisosia93</th>\n",
       "                        <td id=\"T_41ed998f_1fa1_11eb_b147_e470b8fd7298row0_col0\" class=\"data row0 col0\" >5</td>\n",
       "                        <td id=\"T_41ed998f_1fa1_11eb_b147_e470b8fd7298row0_col1\" class=\"data row0 col1\" >$3.79</td>\n",
       "                        <td id=\"T_41ed998f_1fa1_11eb_b147_e470b8fd7298row0_col2\" class=\"data row0 col2\" >$18.96</td>\n",
       "            </tr>\n",
       "            <tr>\n",
       "                        <th id=\"T_41ed998f_1fa1_11eb_b147_e470b8fd7298level0_row1\" class=\"row_heading level0 row1\" >Idastidru52</th>\n",
       "                        <td id=\"T_41ed998f_1fa1_11eb_b147_e470b8fd7298row1_col0\" class=\"data row1 col0\" >4</td>\n",
       "                        <td id=\"T_41ed998f_1fa1_11eb_b147_e470b8fd7298row1_col1\" class=\"data row1 col1\" >$3.86</td>\n",
       "                        <td id=\"T_41ed998f_1fa1_11eb_b147_e470b8fd7298row1_col2\" class=\"data row1 col2\" >$15.45</td>\n",
       "            </tr>\n",
       "            <tr>\n",
       "                        <th id=\"T_41ed998f_1fa1_11eb_b147_e470b8fd7298level0_row2\" class=\"row_heading level0 row2\" >Chamjask73</th>\n",
       "                        <td id=\"T_41ed998f_1fa1_11eb_b147_e470b8fd7298row2_col0\" class=\"data row2 col0\" >3</td>\n",
       "                        <td id=\"T_41ed998f_1fa1_11eb_b147_e470b8fd7298row2_col1\" class=\"data row2 col1\" >$4.61</td>\n",
       "                        <td id=\"T_41ed998f_1fa1_11eb_b147_e470b8fd7298row2_col2\" class=\"data row2 col2\" >$13.83</td>\n",
       "            </tr>\n",
       "            <tr>\n",
       "                        <th id=\"T_41ed998f_1fa1_11eb_b147_e470b8fd7298level0_row3\" class=\"row_heading level0 row3\" >Iral74</th>\n",
       "                        <td id=\"T_41ed998f_1fa1_11eb_b147_e470b8fd7298row3_col0\" class=\"data row3 col0\" >4</td>\n",
       "                        <td id=\"T_41ed998f_1fa1_11eb_b147_e470b8fd7298row3_col1\" class=\"data row3 col1\" >$3.40</td>\n",
       "                        <td id=\"T_41ed998f_1fa1_11eb_b147_e470b8fd7298row3_col2\" class=\"data row3 col2\" >$13.62</td>\n",
       "            </tr>\n",
       "            <tr>\n",
       "                        <th id=\"T_41ed998f_1fa1_11eb_b147_e470b8fd7298level0_row4\" class=\"row_heading level0 row4\" >Iskadarya95</th>\n",
       "                        <td id=\"T_41ed998f_1fa1_11eb_b147_e470b8fd7298row4_col0\" class=\"data row4 col0\" >3</td>\n",
       "                        <td id=\"T_41ed998f_1fa1_11eb_b147_e470b8fd7298row4_col1\" class=\"data row4 col1\" >$4.37</td>\n",
       "                        <td id=\"T_41ed998f_1fa1_11eb_b147_e470b8fd7298row4_col2\" class=\"data row4 col2\" >$13.10</td>\n",
       "            </tr>\n",
       "    </tbody></table>"
      ],
      "text/plain": [
       "<pandas.io.formats.style.Styler at 0x1aba6a9b2b0>"
      ]
     },
     "execution_count": 21,
     "metadata": {},
     "output_type": "execute_result"
    }
   ],
   "source": [
    "# Create a data frame to hold this information\n",
    "spender_summary = pd.DataFrame({'Purchase Count': purchases_by_spender,\n",
    "                                    'Average Purchase Price': mean_purchases_spender,\n",
    "                                    'Total Purchase Value':total_purchases_spender,})\n",
    "format_spender_summary = spender_summary.sort_values(['Total Purchase Value'], ascending = False).head()\n",
    "\n",
    "format_spender_summary.style.format({'Total Purchase Value':'${:,.2f}',\n",
    "                                  'Average Purchase Price':'${:,.2f}'})"
   ]
  },
  {
   "cell_type": "markdown",
   "metadata": {},
   "source": [
    "## Most Popular Items"
   ]
  },
  {
   "cell_type": "markdown",
   "metadata": {},
   "source": [
    "* Retrieve the Item ID, Item Name, and Item Price columns\n",
    "\n",
    "\n",
    "* Group by Item ID and Item Name. Perform calculations to obtain purchase count, average item price, and total purchase value\n",
    "\n",
    "\n",
    "* Create a summary data frame to hold the results\n",
    "\n",
    "\n",
    "* Sort the purchase count column in descending order\n",
    "\n",
    "\n",
    "* Optional: give the displayed data cleaner formatting\n",
    "\n",
    "\n",
    "* Display a preview of the summary data frame\n",
    "\n"
   ]
  },
  {
   "cell_type": "code",
   "execution_count": 22,
   "metadata": {},
   "outputs": [],
   "source": [
    "# Retrieve the Item ID, Item Name, and Item Price columns\n",
    "popular_items = df_purch_data[['Item ID', 'Item Name', 'Price']]\n",
    "\n",
    "# Group by Item ID and Item Name. Perform calculations to obtain purchase count, \n",
    "# average item price, and total purchase value\n",
    "item_group = popular_items.groupby(['Item ID', 'Item Name'])\n",
    "\n",
    "item_purchase_count = item_group['Price'].count()\n",
    "\n",
    "mean_item_price =item_group['Price'].mean()\n",
    "\n",
    "item_purchase_total = (item_group['Price'].sum())\n"
   ]
  },
  {
   "cell_type": "code",
   "execution_count": 23,
   "metadata": {},
   "outputs": [
    {
     "data": {
      "text/html": [
       "<style  type=\"text/css\" >\n",
       "</style><table id=\"T_41f7dc75_1fa1_11eb_82cb_e470b8fd7298\" ><thead>    <tr>        <th class=\"blank\" ></th>        <th class=\"blank level0\" ></th>        <th class=\"col_heading level0 col0\" >Purchase Count</th>        <th class=\"col_heading level0 col1\" >Average Item Price</th>        <th class=\"col_heading level0 col2\" >Total Purchase Value</th>    </tr>    <tr>        <th class=\"index_name level0\" >Item ID</th>        <th class=\"index_name level1\" >Item Name</th>        <th class=\"blank\" ></th>        <th class=\"blank\" ></th>        <th class=\"blank\" ></th>    </tr></thead><tbody>\n",
       "                <tr>\n",
       "                        <th id=\"T_41f7dc75_1fa1_11eb_82cb_e470b8fd7298level0_row0\" class=\"row_heading level0 row0\" >92</th>\n",
       "                        <th id=\"T_41f7dc75_1fa1_11eb_82cb_e470b8fd7298level1_row0\" class=\"row_heading level1 row0\" >Final Critic</th>\n",
       "                        <td id=\"T_41f7dc75_1fa1_11eb_82cb_e470b8fd7298row0_col0\" class=\"data row0 col0\" >13</td>\n",
       "                        <td id=\"T_41f7dc75_1fa1_11eb_82cb_e470b8fd7298row0_col1\" class=\"data row0 col1\" >$4.61</td>\n",
       "                        <td id=\"T_41f7dc75_1fa1_11eb_82cb_e470b8fd7298row0_col2\" class=\"data row0 col2\" >$59.99</td>\n",
       "            </tr>\n",
       "            <tr>\n",
       "                        <th id=\"T_41f7dc75_1fa1_11eb_82cb_e470b8fd7298level0_row1\" class=\"row_heading level0 row1\" >178</th>\n",
       "                        <th id=\"T_41f7dc75_1fa1_11eb_82cb_e470b8fd7298level1_row1\" class=\"row_heading level1 row1\" >Oathbreaker, Last Hope of the Breaking Storm</th>\n",
       "                        <td id=\"T_41f7dc75_1fa1_11eb_82cb_e470b8fd7298row1_col0\" class=\"data row1 col0\" >12</td>\n",
       "                        <td id=\"T_41f7dc75_1fa1_11eb_82cb_e470b8fd7298row1_col1\" class=\"data row1 col1\" >$4.23</td>\n",
       "                        <td id=\"T_41f7dc75_1fa1_11eb_82cb_e470b8fd7298row1_col2\" class=\"data row1 col2\" >$50.76</td>\n",
       "            </tr>\n",
       "            <tr>\n",
       "                        <th id=\"T_41f7dc75_1fa1_11eb_82cb_e470b8fd7298level0_row2\" class=\"row_heading level0 row2\" >145</th>\n",
       "                        <th id=\"T_41f7dc75_1fa1_11eb_82cb_e470b8fd7298level1_row2\" class=\"row_heading level1 row2\" >Fiery Glass Crusader</th>\n",
       "                        <td id=\"T_41f7dc75_1fa1_11eb_82cb_e470b8fd7298row2_col0\" class=\"data row2 col0\" >9</td>\n",
       "                        <td id=\"T_41f7dc75_1fa1_11eb_82cb_e470b8fd7298row2_col1\" class=\"data row2 col1\" >$4.58</td>\n",
       "                        <td id=\"T_41f7dc75_1fa1_11eb_82cb_e470b8fd7298row2_col2\" class=\"data row2 col2\" >$41.22</td>\n",
       "            </tr>\n",
       "            <tr>\n",
       "                        <th id=\"T_41f7dc75_1fa1_11eb_82cb_e470b8fd7298level0_row3\" class=\"row_heading level0 row3\" >132</th>\n",
       "                        <th id=\"T_41f7dc75_1fa1_11eb_82cb_e470b8fd7298level1_row3\" class=\"row_heading level1 row3\" >Persuasion</th>\n",
       "                        <td id=\"T_41f7dc75_1fa1_11eb_82cb_e470b8fd7298row3_col0\" class=\"data row3 col0\" >9</td>\n",
       "                        <td id=\"T_41f7dc75_1fa1_11eb_82cb_e470b8fd7298row3_col1\" class=\"data row3 col1\" >$3.22</td>\n",
       "                        <td id=\"T_41f7dc75_1fa1_11eb_82cb_e470b8fd7298row3_col2\" class=\"data row3 col2\" >$28.99</td>\n",
       "            </tr>\n",
       "            <tr>\n",
       "                        <th id=\"T_41f7dc75_1fa1_11eb_82cb_e470b8fd7298level0_row4\" class=\"row_heading level0 row4\" >108</th>\n",
       "                        <th id=\"T_41f7dc75_1fa1_11eb_82cb_e470b8fd7298level1_row4\" class=\"row_heading level1 row4\" >Extraction, Quickblade Of Trembling Hands</th>\n",
       "                        <td id=\"T_41f7dc75_1fa1_11eb_82cb_e470b8fd7298row4_col0\" class=\"data row4 col0\" >9</td>\n",
       "                        <td id=\"T_41f7dc75_1fa1_11eb_82cb_e470b8fd7298row4_col1\" class=\"data row4 col1\" >$3.53</td>\n",
       "                        <td id=\"T_41f7dc75_1fa1_11eb_82cb_e470b8fd7298row4_col2\" class=\"data row4 col2\" >$31.77</td>\n",
       "            </tr>\n",
       "            <tr>\n",
       "                        <th id=\"T_41f7dc75_1fa1_11eb_82cb_e470b8fd7298level0_row5\" class=\"row_heading level0 row5\" >82</th>\n",
       "                        <th id=\"T_41f7dc75_1fa1_11eb_82cb_e470b8fd7298level1_row5\" class=\"row_heading level1 row5\" >Nirvana</th>\n",
       "                        <td id=\"T_41f7dc75_1fa1_11eb_82cb_e470b8fd7298row5_col0\" class=\"data row5 col0\" >9</td>\n",
       "                        <td id=\"T_41f7dc75_1fa1_11eb_82cb_e470b8fd7298row5_col1\" class=\"data row5 col1\" >$4.90</td>\n",
       "                        <td id=\"T_41f7dc75_1fa1_11eb_82cb_e470b8fd7298row5_col2\" class=\"data row5 col2\" >$44.10</td>\n",
       "            </tr>\n",
       "            <tr>\n",
       "                        <th id=\"T_41f7dc75_1fa1_11eb_82cb_e470b8fd7298level0_row6\" class=\"row_heading level0 row6\" >75</th>\n",
       "                        <th id=\"T_41f7dc75_1fa1_11eb_82cb_e470b8fd7298level1_row6\" class=\"row_heading level1 row6\" >Brutality Ivory Warmace</th>\n",
       "                        <td id=\"T_41f7dc75_1fa1_11eb_82cb_e470b8fd7298row6_col0\" class=\"data row6 col0\" >8</td>\n",
       "                        <td id=\"T_41f7dc75_1fa1_11eb_82cb_e470b8fd7298row6_col1\" class=\"data row6 col1\" >$2.42</td>\n",
       "                        <td id=\"T_41f7dc75_1fa1_11eb_82cb_e470b8fd7298row6_col2\" class=\"data row6 col2\" >$19.36</td>\n",
       "            </tr>\n",
       "            <tr>\n",
       "                        <th id=\"T_41f7dc75_1fa1_11eb_82cb_e470b8fd7298level0_row7\" class=\"row_heading level0 row7\" >103</th>\n",
       "                        <th id=\"T_41f7dc75_1fa1_11eb_82cb_e470b8fd7298level1_row7\" class=\"row_heading level1 row7\" >Singed Scalpel</th>\n",
       "                        <td id=\"T_41f7dc75_1fa1_11eb_82cb_e470b8fd7298row7_col0\" class=\"data row7 col0\" >8</td>\n",
       "                        <td id=\"T_41f7dc75_1fa1_11eb_82cb_e470b8fd7298row7_col1\" class=\"data row7 col1\" >$4.35</td>\n",
       "                        <td id=\"T_41f7dc75_1fa1_11eb_82cb_e470b8fd7298row7_col2\" class=\"data row7 col2\" >$34.80</td>\n",
       "            </tr>\n",
       "            <tr>\n",
       "                        <th id=\"T_41f7dc75_1fa1_11eb_82cb_e470b8fd7298level0_row8\" class=\"row_heading level0 row8\" >34</th>\n",
       "                        <th id=\"T_41f7dc75_1fa1_11eb_82cb_e470b8fd7298level1_row8\" class=\"row_heading level1 row8\" >Retribution Axe</th>\n",
       "                        <td id=\"T_41f7dc75_1fa1_11eb_82cb_e470b8fd7298row8_col0\" class=\"data row8 col0\" >8</td>\n",
       "                        <td id=\"T_41f7dc75_1fa1_11eb_82cb_e470b8fd7298row8_col1\" class=\"data row8 col1\" >$2.22</td>\n",
       "                        <td id=\"T_41f7dc75_1fa1_11eb_82cb_e470b8fd7298row8_col2\" class=\"data row8 col2\" >$17.76</td>\n",
       "            </tr>\n",
       "            <tr>\n",
       "                        <th id=\"T_41f7dc75_1fa1_11eb_82cb_e470b8fd7298level0_row9\" class=\"row_heading level0 row9\" >37</th>\n",
       "                        <th id=\"T_41f7dc75_1fa1_11eb_82cb_e470b8fd7298level1_row9\" class=\"row_heading level1 row9\" >Shadow Strike, Glory of Ending Hope</th>\n",
       "                        <td id=\"T_41f7dc75_1fa1_11eb_82cb_e470b8fd7298row9_col0\" class=\"data row9 col0\" >8</td>\n",
       "                        <td id=\"T_41f7dc75_1fa1_11eb_82cb_e470b8fd7298row9_col1\" class=\"data row9 col1\" >$3.16</td>\n",
       "                        <td id=\"T_41f7dc75_1fa1_11eb_82cb_e470b8fd7298row9_col2\" class=\"data row9 col2\" >$25.28</td>\n",
       "            </tr>\n",
       "    </tbody></table>"
      ],
      "text/plain": [
       "<pandas.io.formats.style.Styler at 0x1aba58aee20>"
      ]
     },
     "execution_count": 23,
     "metadata": {},
     "output_type": "execute_result"
    }
   ],
   "source": [
    "# Create a summary data frame to hold the results\n",
    "popular_item_df = pd.DataFrame({'Purchase Count': item_purchase_count,\n",
    "                                'Average Item Price': mean_item_price,\n",
    "                                'Total Purchase Value': item_purchase_total})\n",
    "\n",
    "# Sort the purchase count column in descending order\n",
    "popular_item_format = popular_item_df.sort_values(['Purchase Count'], ascending = False).head(10)\n",
    "\n",
    "# Format the data \n",
    "popular_item_format.style.format({'Average Item Price':'${:,.2f}',\n",
    "                                  'Total Purchase Value':'${:,.2f}'})   "
   ]
  },
  {
   "cell_type": "markdown",
   "metadata": {},
   "source": [
    "## Most Profitable Items"
   ]
  },
  {
   "cell_type": "markdown",
   "metadata": {},
   "source": [
    "* Sort the above table by total purchase value in descending order\n",
    "\n",
    "\n",
    "* Optional: give the displayed data cleaner formatting\n",
    "\n",
    "\n",
    "* Display a preview of the data frame\n",
    "\n"
   ]
  },
  {
   "cell_type": "code",
   "execution_count": 24,
   "metadata": {
    "scrolled": true
   },
   "outputs": [
    {
     "data": {
      "text/html": [
       "<style  type=\"text/css\" >\n",
       "</style><table id=\"T_41fd2f4f_1fa1_11eb_9716_e470b8fd7298\" ><thead>    <tr>        <th class=\"blank\" ></th>        <th class=\"blank level0\" ></th>        <th class=\"col_heading level0 col0\" >Purchase Count</th>        <th class=\"col_heading level0 col1\" >Average Item Price</th>        <th class=\"col_heading level0 col2\" >Total Purchase Value</th>    </tr>    <tr>        <th class=\"index_name level0\" >Item ID</th>        <th class=\"index_name level1\" >Item Name</th>        <th class=\"blank\" ></th>        <th class=\"blank\" ></th>        <th class=\"blank\" ></th>    </tr></thead><tbody>\n",
       "                <tr>\n",
       "                        <th id=\"T_41fd2f4f_1fa1_11eb_9716_e470b8fd7298level0_row0\" class=\"row_heading level0 row0\" >92</th>\n",
       "                        <th id=\"T_41fd2f4f_1fa1_11eb_9716_e470b8fd7298level1_row0\" class=\"row_heading level1 row0\" >Final Critic</th>\n",
       "                        <td id=\"T_41fd2f4f_1fa1_11eb_9716_e470b8fd7298row0_col0\" class=\"data row0 col0\" >13</td>\n",
       "                        <td id=\"T_41fd2f4f_1fa1_11eb_9716_e470b8fd7298row0_col1\" class=\"data row0 col1\" >$4.61</td>\n",
       "                        <td id=\"T_41fd2f4f_1fa1_11eb_9716_e470b8fd7298row0_col2\" class=\"data row0 col2\" >$59.99</td>\n",
       "            </tr>\n",
       "            <tr>\n",
       "                        <th id=\"T_41fd2f4f_1fa1_11eb_9716_e470b8fd7298level0_row1\" class=\"row_heading level0 row1\" >178</th>\n",
       "                        <th id=\"T_41fd2f4f_1fa1_11eb_9716_e470b8fd7298level1_row1\" class=\"row_heading level1 row1\" >Oathbreaker, Last Hope of the Breaking Storm</th>\n",
       "                        <td id=\"T_41fd2f4f_1fa1_11eb_9716_e470b8fd7298row1_col0\" class=\"data row1 col0\" >12</td>\n",
       "                        <td id=\"T_41fd2f4f_1fa1_11eb_9716_e470b8fd7298row1_col1\" class=\"data row1 col1\" >$4.23</td>\n",
       "                        <td id=\"T_41fd2f4f_1fa1_11eb_9716_e470b8fd7298row1_col2\" class=\"data row1 col2\" >$50.76</td>\n",
       "            </tr>\n",
       "            <tr>\n",
       "                        <th id=\"T_41fd2f4f_1fa1_11eb_9716_e470b8fd7298level0_row2\" class=\"row_heading level0 row2\" >145</th>\n",
       "                        <th id=\"T_41fd2f4f_1fa1_11eb_9716_e470b8fd7298level1_row2\" class=\"row_heading level1 row2\" >Fiery Glass Crusader</th>\n",
       "                        <td id=\"T_41fd2f4f_1fa1_11eb_9716_e470b8fd7298row2_col0\" class=\"data row2 col0\" >9</td>\n",
       "                        <td id=\"T_41fd2f4f_1fa1_11eb_9716_e470b8fd7298row2_col1\" class=\"data row2 col1\" >$4.58</td>\n",
       "                        <td id=\"T_41fd2f4f_1fa1_11eb_9716_e470b8fd7298row2_col2\" class=\"data row2 col2\" >$41.22</td>\n",
       "            </tr>\n",
       "            <tr>\n",
       "                        <th id=\"T_41fd2f4f_1fa1_11eb_9716_e470b8fd7298level0_row3\" class=\"row_heading level0 row3\" >132</th>\n",
       "                        <th id=\"T_41fd2f4f_1fa1_11eb_9716_e470b8fd7298level1_row3\" class=\"row_heading level1 row3\" >Persuasion</th>\n",
       "                        <td id=\"T_41fd2f4f_1fa1_11eb_9716_e470b8fd7298row3_col0\" class=\"data row3 col0\" >9</td>\n",
       "                        <td id=\"T_41fd2f4f_1fa1_11eb_9716_e470b8fd7298row3_col1\" class=\"data row3 col1\" >$3.22</td>\n",
       "                        <td id=\"T_41fd2f4f_1fa1_11eb_9716_e470b8fd7298row3_col2\" class=\"data row3 col2\" >$28.99</td>\n",
       "            </tr>\n",
       "            <tr>\n",
       "                        <th id=\"T_41fd2f4f_1fa1_11eb_9716_e470b8fd7298level0_row4\" class=\"row_heading level0 row4\" >108</th>\n",
       "                        <th id=\"T_41fd2f4f_1fa1_11eb_9716_e470b8fd7298level1_row4\" class=\"row_heading level1 row4\" >Extraction, Quickblade Of Trembling Hands</th>\n",
       "                        <td id=\"T_41fd2f4f_1fa1_11eb_9716_e470b8fd7298row4_col0\" class=\"data row4 col0\" >9</td>\n",
       "                        <td id=\"T_41fd2f4f_1fa1_11eb_9716_e470b8fd7298row4_col1\" class=\"data row4 col1\" >$3.53</td>\n",
       "                        <td id=\"T_41fd2f4f_1fa1_11eb_9716_e470b8fd7298row4_col2\" class=\"data row4 col2\" >$31.77</td>\n",
       "            </tr>\n",
       "            <tr>\n",
       "                        <th id=\"T_41fd2f4f_1fa1_11eb_9716_e470b8fd7298level0_row5\" class=\"row_heading level0 row5\" >82</th>\n",
       "                        <th id=\"T_41fd2f4f_1fa1_11eb_9716_e470b8fd7298level1_row5\" class=\"row_heading level1 row5\" >Nirvana</th>\n",
       "                        <td id=\"T_41fd2f4f_1fa1_11eb_9716_e470b8fd7298row5_col0\" class=\"data row5 col0\" >9</td>\n",
       "                        <td id=\"T_41fd2f4f_1fa1_11eb_9716_e470b8fd7298row5_col1\" class=\"data row5 col1\" >$4.90</td>\n",
       "                        <td id=\"T_41fd2f4f_1fa1_11eb_9716_e470b8fd7298row5_col2\" class=\"data row5 col2\" >$44.10</td>\n",
       "            </tr>\n",
       "            <tr>\n",
       "                        <th id=\"T_41fd2f4f_1fa1_11eb_9716_e470b8fd7298level0_row6\" class=\"row_heading level0 row6\" >75</th>\n",
       "                        <th id=\"T_41fd2f4f_1fa1_11eb_9716_e470b8fd7298level1_row6\" class=\"row_heading level1 row6\" >Brutality Ivory Warmace</th>\n",
       "                        <td id=\"T_41fd2f4f_1fa1_11eb_9716_e470b8fd7298row6_col0\" class=\"data row6 col0\" >8</td>\n",
       "                        <td id=\"T_41fd2f4f_1fa1_11eb_9716_e470b8fd7298row6_col1\" class=\"data row6 col1\" >$2.42</td>\n",
       "                        <td id=\"T_41fd2f4f_1fa1_11eb_9716_e470b8fd7298row6_col2\" class=\"data row6 col2\" >$19.36</td>\n",
       "            </tr>\n",
       "            <tr>\n",
       "                        <th id=\"T_41fd2f4f_1fa1_11eb_9716_e470b8fd7298level0_row7\" class=\"row_heading level0 row7\" >103</th>\n",
       "                        <th id=\"T_41fd2f4f_1fa1_11eb_9716_e470b8fd7298level1_row7\" class=\"row_heading level1 row7\" >Singed Scalpel</th>\n",
       "                        <td id=\"T_41fd2f4f_1fa1_11eb_9716_e470b8fd7298row7_col0\" class=\"data row7 col0\" >8</td>\n",
       "                        <td id=\"T_41fd2f4f_1fa1_11eb_9716_e470b8fd7298row7_col1\" class=\"data row7 col1\" >$4.35</td>\n",
       "                        <td id=\"T_41fd2f4f_1fa1_11eb_9716_e470b8fd7298row7_col2\" class=\"data row7 col2\" >$34.80</td>\n",
       "            </tr>\n",
       "            <tr>\n",
       "                        <th id=\"T_41fd2f4f_1fa1_11eb_9716_e470b8fd7298level0_row8\" class=\"row_heading level0 row8\" >34</th>\n",
       "                        <th id=\"T_41fd2f4f_1fa1_11eb_9716_e470b8fd7298level1_row8\" class=\"row_heading level1 row8\" >Retribution Axe</th>\n",
       "                        <td id=\"T_41fd2f4f_1fa1_11eb_9716_e470b8fd7298row8_col0\" class=\"data row8 col0\" >8</td>\n",
       "                        <td id=\"T_41fd2f4f_1fa1_11eb_9716_e470b8fd7298row8_col1\" class=\"data row8 col1\" >$2.22</td>\n",
       "                        <td id=\"T_41fd2f4f_1fa1_11eb_9716_e470b8fd7298row8_col2\" class=\"data row8 col2\" >$17.76</td>\n",
       "            </tr>\n",
       "            <tr>\n",
       "                        <th id=\"T_41fd2f4f_1fa1_11eb_9716_e470b8fd7298level0_row9\" class=\"row_heading level0 row9\" >37</th>\n",
       "                        <th id=\"T_41fd2f4f_1fa1_11eb_9716_e470b8fd7298level1_row9\" class=\"row_heading level1 row9\" >Shadow Strike, Glory of Ending Hope</th>\n",
       "                        <td id=\"T_41fd2f4f_1fa1_11eb_9716_e470b8fd7298row9_col0\" class=\"data row9 col0\" >8</td>\n",
       "                        <td id=\"T_41fd2f4f_1fa1_11eb_9716_e470b8fd7298row9_col1\" class=\"data row9 col1\" >$3.16</td>\n",
       "                        <td id=\"T_41fd2f4f_1fa1_11eb_9716_e470b8fd7298row9_col2\" class=\"data row9 col2\" >$25.28</td>\n",
       "            </tr>\n",
       "    </tbody></table>"
      ],
      "text/plain": [
       "<pandas.io.formats.style.Styler at 0x1aba6a90910>"
      ]
     },
     "execution_count": 24,
     "metadata": {},
     "output_type": "execute_result"
    }
   ],
   "source": [
    "# MOST PROFITABLE ITEMS\n",
    "\n",
    "# Sort the above table by total purchase value in descending order\n",
    "popular_item_format2 = popular_item_df.sort_values(['Total Purchase Value'], ascending = False).head(10)\n",
    "\n",
    "popular_item_format.style.format({'Total Purchase Value':'${:,.2f}','Average Item Price':'${:,.2f}'})"
   ]
  }
 ],
 "metadata": {
  "anaconda-cloud": {},
  "kernel_info": {
   "name": "python3"
  },
  "kernelspec": {
   "display_name": "Python 3",
   "language": "python",
   "name": "python3"
  },
  "language_info": {
   "codemirror_mode": {
    "name": "ipython",
    "version": 3
   },
   "file_extension": ".py",
   "mimetype": "text/x-python",
   "name": "python",
   "nbconvert_exporter": "python",
   "pygments_lexer": "ipython3",
   "version": "3.8.3"
  },
  "latex_envs": {
   "LaTeX_envs_menu_present": true,
   "autoclose": false,
   "autocomplete": true,
   "bibliofile": "biblio.bib",
   "cite_by": "apalike",
   "current_citInitial": 1,
   "eqLabelWithNumbers": true,
   "eqNumInitial": 1,
   "hotkeys": {
    "equation": "Ctrl-E",
    "itemize": "Ctrl-I"
   },
   "labels_anchors": false,
   "latex_user_defs": false,
   "report_style_numbering": false,
   "user_envs_cfg": false
  },
  "nteract": {
   "version": "0.2.0"
  }
 },
 "nbformat": 4,
 "nbformat_minor": 2
}
